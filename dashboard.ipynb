{
 "cells": [
  {
   "cell_type": "code",
   "execution_count": 8,
   "metadata": {},
   "outputs": [],
   "source": [
    "from jupyter_dash import JupyterDash\n",
    "\n",
    "from dash import dash,dcc,html\n",
    "import plotly.express as px\n",
    "import pandas as pd\n",
    "import plotly.express as px\n",
    "import json\n",
    "import re\n",
    "\n"
   ]
  },
  {
   "cell_type": "code",
   "execution_count": 9,
   "metadata": {},
   "outputs": [
    {
     "name": "stdout",
     "output_type": "stream",
     "text": [
      "yellow_tripdata_2021-05.parquet\n",
      "yellow_tripdata_2021-04.parquet\n",
      "yellow_tripdata_2021-06.parquet\n",
      "yellow_tripdata_2021-07.parquet\n",
      "yellow_tripdata_2021-02.parquet\n",
      "yellow_tripdata_2021-12.parquet\n",
      "yellow_tripdata_2021-03.parquet\n",
      "yellow_tripdata_2021-08.parquet\n",
      "yellow_tripdata_2021-01.parquet\n",
      "yellow_tripdata_2021-11.parquet\n",
      "yellow_tripdata_2021-10.parquet\n",
      "yellow_tripdata_2021-09.parquet\n"
     ]
    }
   ],
   "source": [
    "# load data\n",
    "\n",
    "# read nyc taxi data from 2021\n",
    "# url: https://www1.nyc.gov/site/tlc/about/tlc-trip-record-data.page\n",
    "\n",
    "files = os.listdir('data')\n",
    "trip_files = [f for f in files if re.findall('yellow_tripdata[_\\-0-9]*.parquet',f)]\n",
    "\n",
    "nyc_taxi = pd.DataFrame()\n",
    "\n",
    "for f in trip_files:\n",
    "    nyc_taxi = pd.concat([nyc_taxi,pd.read_parquet(f'data/{f}')])\n",
    "    print(f)\n",
    "\n",
    "\n",
    "trips = nyc_taxi.groupby(['PULocationID']).size().reset_index()\n",
    "trips.rename(columns={0: 'count'}, inplace=True)\n",
    "\n",
    "with open(\"data/taxi_zones/taxi_zones.geojson\") as geofile:\n",
    "    j_file = json.load(geofile)"
   ]
  },
  {
   "cell_type": "code",
   "execution_count": 10,
   "metadata": {},
   "outputs": [],
   "source": [
    "\n",
    "\n",
    "app = JupyterDash(__name__)\n",
    "\n",
    "# Create server variable with Flask server object for use with gunicorn\n",
    "server = app.server\n",
    "\n",
    "\n",
    "fig = px.choropleth_mapbox(trips, geojson=j_file,\n",
    "                           locations='PULocationID',\n",
    "                           color='count',\n",
    "                           featureidkey='properties.LocationID',\n",
    "                           color_continuous_scale=\"Viridis\",\n",
    "                           mapbox_style=\"carto-positron\",\n",
    "                           zoom=9, center = {\"lat\": 40.719590, \"lon\": -73.990851},\n",
    "                           opacity=0.5,\n",
    "                           labels={'PULocationID':'LocationID','count':'Pickup Counts'}\n",
    "                          )\n",
    "fig.update_layout(margin={\"r\":0,\"t\":0,\"l\":0,\"b\":0})\n",
    "\n",
    "app.layout = html.Div(children=[\n",
    "    html.H1(children='Hello Dash'),\n",
    "\n",
    "    html.Div(children='''\n",
    "        Dash: A web application framework for your data.\n",
    "    '''),\n",
    "\n",
    "    dcc.Graph(\n",
    "        id='example-graph',\n",
    "        figure=fig\n",
    "    )\n",
    "])"
   ]
  },
  {
   "cell_type": "code",
   "execution_count": 4,
   "metadata": {},
   "outputs": [
    {
     "name": "stdout",
     "output_type": "stream",
     "text": [
      "Dash app running on http://127.0.0.1:8050/\n"
     ]
    }
   ],
   "source": [
    "app.run_server()"
   ]
  },
  {
   "cell_type": "code",
   "execution_count": null,
   "metadata": {},
   "outputs": [],
   "source": []
  }
 ],
 "metadata": {
  "kernelspec": {
   "display_name": "Python 3.9.13 ('ivi': venv)",
   "language": "python",
   "name": "python3"
  },
  "language_info": {
   "codemirror_mode": {
    "name": "ipython",
    "version": 3
   },
   "file_extension": ".py",
   "mimetype": "text/x-python",
   "name": "python",
   "nbconvert_exporter": "python",
   "pygments_lexer": "ipython3",
   "version": "3.9.13"
  },
  "orig_nbformat": 4,
  "vscode": {
   "interpreter": {
    "hash": "ea2e25e0a0dad2ee738b4aa419d56cbcbcec47a2bb60daa3895cce4cdfb0e425"
   }
  }
 },
 "nbformat": 4,
 "nbformat_minor": 2
}
